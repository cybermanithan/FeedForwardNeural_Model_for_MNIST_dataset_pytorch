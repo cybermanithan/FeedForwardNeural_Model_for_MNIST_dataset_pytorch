{
  "nbformat": 4,
  "nbformat_minor": 0,
  "metadata": {
    "colab": {
      "name": "feedforward neuralnetwork.ipynb",
      "provenance": [],
      "collapsed_sections": []
    },
    "kernelspec": {
      "name": "python3",
      "display_name": "Python 3"
    },
    "language_info": {
      "name": "python"
    }
  },
  "cells": [
    {
      "cell_type": "code",
      "metadata": {
        "id": "XxrR86anX8Q5"
      },
      "source": [
        "import torch \n",
        "import torch.nn as nn \n",
        "import torchvision \n",
        "import torchvision.transforms as transforms \n",
        "import matplotlib.pyplot as plt "
      ],
      "execution_count": 89,
      "outputs": []
    },
    {
      "cell_type": "code",
      "metadata": {
        "id": "dcBtJ4oFV64r"
      },
      "source": [
        "train_dataset = torchvision.datasets.MNIST(root=\"./\",download=True,train=True,transform=transforms.ToTensor())"
      ],
      "execution_count": 90,
      "outputs": []
    },
    {
      "cell_type": "code",
      "metadata": {
        "id": "Xa1SwGBqzLOS"
      },
      "source": [
        "test_dataset = torchvision.datasets.MNIST(root=\"./\",download=False,train=False,transform=transforms.ToTensor())"
      ],
      "execution_count": 91,
      "outputs": []
    },
    {
      "cell_type": "code",
      "metadata": {
        "id": "wc3LmeKI0T6m"
      },
      "source": [
        "batch_size = 128\n",
        "train_loaders = torch.utils.data.DataLoader(dataset=train_dataset,batch_size=batch_size,shuffle=True)\n",
        "test_loaders = torch.utils.data.DataLoader(dataset=test_dataset,batch_size=batch_size,shuffle=False)"
      ],
      "execution_count": 92,
      "outputs": []
    },
    {
      "cell_type": "code",
      "metadata": {
        "id": "DBTBovkf0ZJH"
      },
      "source": [
        "samples,labels = iter(train_loaders).next()"
      ],
      "execution_count": 93,
      "outputs": []
    },
    {
      "cell_type": "code",
      "metadata": {
        "colab": {
          "base_uri": "https://localhost:8080/",
          "height": 267
        },
        "id": "mW-oDmz919gG",
        "outputId": "50072175-1e58-4aec-daa8-546f6691cec7"
      },
      "source": [
        "for i in range(6):\n",
        "    plt.subplot(2,3,i+1)\n",
        "    plt.imshow(samples[i][0],cmap=\"gray\")\n",
        "plt.show()  "
      ],
      "execution_count": 94,
      "outputs": [
        {
          "output_type": "display_data",
          "data": {
            "image/png": "[encoded data removed]",
            "text/plain": [
              "<Figure size 432x288 with 6 Axes>"
            ]
          },
          "metadata": {
            "tags": [],
            "needs_background": "light"
          }
        }
      ]
    },
    {
      "cell_type": "code",
      "metadata": {
        "colab": {
          "base_uri": "https://localhost:8080/"
        },
        "id": "pOYWXwfD2I7P",
        "outputId": "8a33dddb-9d1d-44e2-b040-9d3e7d78dd42"
      },
      "source": [
        "samples.shape , labels.shape"
      ],
      "execution_count": 95,
      "outputs": [
        {
          "output_type": "execute_result",
          "data": {
            "text/plain": [
              "(torch.Size([128, 1, 28, 28]), torch.Size([128]))"
            ]
          },
          "metadata": {
            "tags": []
          },
          "execution_count": 95
        }
      ]
    },
    {
      "cell_type": "code",
      "metadata": {
        "id": "ZD8IsFyo2oCn"
      },
      "source": [
        "input_size = 784 \n",
        "hidden_size = 128 \n",
        "num_class = 10"
      ],
      "execution_count": 96,
      "outputs": []
    },
    {
      "cell_type": "code",
      "metadata": {
        "id": "Pu2B-L4W24Un"
      },
      "source": [
        "class NeuralNet(nn.Module):\n",
        "  def __init__(self,input_size,hidden_size,num_class):\n",
        "    super(NeuralNet,self).__init__()\n",
        "    self.l1 = nn.Linear(input_size,hidden_size)\n",
        "    self.relu = nn.ReLU()\n",
        "    self.l2 = nn.Linear(hidden_size,num_class)\n",
        "\n",
        "  def forward(self,x):\n",
        "    out = self.l1(x)\n",
        "    out = self.relu(out)\n",
        "    out = self.l2(out)\n",
        "\n",
        "    return out\n",
        "\n"
      ],
      "execution_count": 97,
      "outputs": []
    },
    {
      "cell_type": "code",
      "metadata": {
        "id": "3kcPsMCt4wIQ"
      },
      "source": [
        "model = NeuralNet(input_size,hidden_size,num_class)"
      ],
      "execution_count": 98,
      "outputs": []
    },
    {
      "cell_type": "code",
      "metadata": {
        "id": "gixGd0Ud5GyW"
      },
      "source": [
        "criterion = nn.CrossEntropyLoss()\n",
        "optimizer = torch.optim.Adam(model.parameters(),lr= 0.001)"
      ],
      "execution_count": 99,
      "outputs": []
    },
    {
      "cell_type": "code",
      "metadata": {
        "colab": {
          "base_uri": "https://localhost:8080/"
        },
        "id": "F7GrnnLh6BuI",
        "outputId": "8a56e157-9c95-4b65-df81-c2a746615fec"
      },
      "source": [
        "num_ephos = 10\n",
        "total_step = len(train_loaders)\n",
        "for ephos in range(num_ephos):\n",
        "  for i,(images,labels) in enumerate(train_loaders):\n",
        "    images = images.view(-1,784)\n",
        "    output = model(images)\n",
        "    loss = criterion(output,labels)\n",
        "    loss.backward()\n",
        "    optimizer.step()\n",
        "    optimizer.zero_grad()\n",
        "    if(i+1)%100 == 0:\n",
        "      print(f\"ephos{ephos+1}/{num_ephos},steps {i+1}/{total_step}, loss{loss.item():.4f}\")"
      ],
      "execution_count": 100,
      "outputs": [
        {
          "output_type": "stream",
          "text": [
            "ephos1/10,steps 100/469, loss0.4926\n",
            "ephos1/10,steps 200/469, loss0.2505\n",
            "ephos1/10,steps 300/469, loss0.2823\n",
            "ephos1/10,steps 400/469, loss0.1785\n",
            "ephos2/10,steps 100/469, loss0.1444\n",
            "ephos2/10,steps 200/469, loss0.1629\n",
            "ephos2/10,steps 300/469, loss0.1994\n",
            "ephos2/10,steps 400/469, loss0.1160\n",
            "ephos3/10,steps 100/469, loss0.2175\n",
            "ephos3/10,steps 200/469, loss0.1047\n",
            "ephos3/10,steps 300/469, loss0.0958\n",
            "ephos3/10,steps 400/469, loss0.1185\n",
            "ephos4/10,steps 100/469, loss0.1511\n",
            "ephos4/10,steps 200/469, loss0.1277\n",
            "ephos4/10,steps 300/469, loss0.0649\n",
            "ephos4/10,steps 400/469, loss0.0765\n",
            "ephos5/10,steps 100/469, loss0.2602\n",
            "ephos5/10,steps 200/469, loss0.0827\n",
            "ephos5/10,steps 300/469, loss0.1328\n",
            "ephos5/10,steps 400/469, loss0.0505\n",
            "ephos6/10,steps 100/469, loss0.0677\n",
            "ephos6/10,steps 200/469, loss0.0923\n",
            "ephos6/10,steps 300/469, loss0.0831\n",
            "ephos6/10,steps 400/469, loss0.0904\n",
            "ephos7/10,steps 100/469, loss0.0131\n",
            "ephos7/10,steps 200/469, loss0.0411\n",
            "ephos7/10,steps 300/469, loss0.1687\n",
            "ephos7/10,steps 400/469, loss0.0931\n",
            "ephos8/10,steps 100/469, loss0.0432\n",
            "ephos8/10,steps 200/469, loss0.0437\n",
            "ephos8/10,steps 300/469, loss0.0369\n",
            "ephos8/10,steps 400/469, loss0.0451\n",
            "ephos9/10,steps 100/469, loss0.0337\n",
            "ephos9/10,steps 200/469, loss0.0205\n",
            "ephos9/10,steps 300/469, loss0.0418\n",
            "ephos9/10,steps 400/469, loss0.0639\n",
            "ephos10/10,steps 100/469, loss0.0207\n",
            "ephos10/10,steps 200/469, loss0.0648\n",
            "ephos10/10,steps 300/469, loss0.0358\n",
            "ephos10/10,steps 400/469, loss0.0121\n"
          ],
          "name": "stdout"
        }
      ]
    },
    {
      "cell_type": "code",
      "metadata": {
        "id": "NPgTA1Qo7h5m"
      },
      "source": [
        "with torch.no_grad():\n",
        "  n_correct = 0\n",
        "  n_samples = 0 \n",
        "  for i ,(images,labels) in enumerate(train_loaders):\n",
        "    images = images.view(-1,784)\n",
        "    output = model(images)\n",
        "    _,prediction = torch.max(output,1)\n",
        "    n_samples += labels.shape[0]\n",
        "    n_correct += (prediction == labels).sum().item()\n"
      ],
      "execution_count": 101,
      "outputs": []
    },
    {
      "cell_type": "code",
      "metadata": {
        "colab": {
          "base_uri": "https://localhost:8080/"
        },
        "id": "1YrfPwgh8UjW",
        "outputId": "969ef564-ffe2-4cd5-b544-6686d87c9834"
      },
      "source": [
        "acc  = 100.0 * n_correct/n_samples\n",
        "print(f\"accuracy {acc}\")"
      ],
      "execution_count": 102,
      "outputs": [
        {
          "output_type": "stream",
          "text": [
            "accuracy 99.16166666666666\n"
          ],
          "name": "stdout"
        }
      ]
    },
    {
      "cell_type": "code",
      "metadata": {
        "id": "FNrG2hiM9z2e"
      },
      "source": [
        ""
      ],
      "execution_count": 102,
      "outputs": []
    }
  ]
}